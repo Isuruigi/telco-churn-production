{
 "cells": [
  {
   "cell_type": "markdown",
   "metadata": {},
   "source": [
    "# Telco Customer Churn: MLflow Experiment Tracking"
   ]
  },
  {
   "cell_type": "markdown",
   "metadata": {},
   "source": [
    "## 1. Setup and Imports"
   ]
  },
  {
   "cell_type": "code",
   "execution_count": null,
   "metadata": {},
   "outputs": [],
   "source": [
    "import pandas as pd\n",
    "import numpy as np\n",
    "import sys\n",
    "import os\n",
    "import yaml\n",
    "import mlflow\n",
    "import mlflow.sklearn\n",
    "from datetime import datetime\n",
    "\n",
    "sys.path.append(os.path.abspath(os.path.join(os.getcwd(), '..')))\n",
    "\n",
    "from src.data_loader import TelcoDataLoader\n",
    "from src.preprocessor import DataPreprocessor\n",
    "from src.ensemble_models import RandomForestChurnModel, XGBoostChurnModel\n",
    "from sklearn.model_selection import train_test_split\n",
    "from sklearn.metrics import accuracy_score, precision_score, recall_score, f1_score, roc_auc_score\n",
    "\n",
    "with open('../config/config.yaml', 'r') as f:\n",
    "    config = yaml.safe_load(f)\n",
    "\n",
    "print('Setup complete')"
   ]
  },
  {
   "cell_type": "markdown",
   "metadata": {},
   "source": [
    "## 2. Configure MLflow"
   ]
  },
  {
   "cell_type": "code",
   "execution_count": null,
   "metadata": {},
   "outputs": [],
   "source": [
    "mlflow_tracking_uri = config['mlflow']['tracking_uri']\n",
    "experiment_name = config['mlflow']['experiment_name']\n",
    "mlflow.set_experiment(experiment_name)\n",
    "print(f'Experiment: {experiment_name}')"
   ]
  },
  {
   "cell_type": "markdown",
   "metadata": {},
   "source": [
    "## 3. Load and Prepare Data"
   ]
  },
  {
   "cell_type": "code",
   "execution_count": null,
   "metadata": {},
   "outputs": [],
   "source": [
    "loader = TelcoDataLoader()\n",
    "df = loader.load_raw_data()\n",
    "df['TotalCharges'] = pd.to_numeric(df['TotalCharges'], errors='coerce')\n",
    "df.dropna(subset=['TotalCharges'], inplace=True)\n",
    "\n",
    "target_col = config['target']\n",
    "X = df.drop(target_col, axis=1)\n",
    "y = (df[target_col] == 'Yes').astype(int)\n",
    "\n",
    "X_train, X_test, y_train, y_test = train_test_split(\n",
    "    X, y, test_size=config['training']['test_size'], \n",
    "    random_state=config['training']['random_state'], stratify=y\n",
    ")\n",
    "\n",
    "preprocessor = DataPreprocessor().create_preprocessing_pipeline()\n",
    "X_train_transformed = preprocessor.fit_transform(X_train)\n",
    "X_test_transformed = preprocessor.transform(X_test)\n",
    "\n",
    "print(f'Data prepared: train={X_train_transformed.shape}, test={X_test_transformed.shape}')"
   ]
  },
  {
   "cell_type": "markdown",
   "metadata": {},
   "source": [
    "## 4. Train Models with MLflow Tracking"
   ]
  },
  {
   "cell_type": "code",
   "execution_count": null,
   "metadata": {},
   "outputs": [],
   "source": [
    "def train_and_log_model(model, model_name, X_train, X_test, y_train, y_test, params):\n",
    "    with mlflow.start_run(run_name=f'{model_name}_{datetime.now().strftime(\"%Y%m%d_%H%M%S\")}'):\n",
    "        mlflow.log_params(params)\n",
    "        model.train(X_train, y_train)\n",
    "        y_pred = model.predict(X_test)\n",
    "        y_pred_proba = model.predict_proba(X_test)[:, 1]\n",
    "        \n",
    "        metrics = {\n",
    "            'accuracy': accuracy_score(y_test, y_pred),\n",
    "            'precision': precision_score(y_test, y_pred),\n",
    "            'recall': recall_score(y_test, y_pred),\n",
    "            'f1_score': f1_score(y_test, y_pred),\n",
    "            'roc_auc': roc_auc_score(y_test, y_pred_proba)\n",
    "        }\n",
    "        \n",
    "        mlflow.log_metrics(metrics)\n",
    "        mlflow.sklearn.log_model(model.model, 'model')\n",
    "        mlflow.set_tag('model_type', model_name)\n",
    "        \n",
    "        print(f'{model_name} - ROC AUC: {metrics[\"roc_auc\"]:.4f}')\n",
    "        return metrics"
   ]
  },
  {
   "cell_type": "code",
   "execution_count": null,
   "metadata": {},
   "outputs": [],
   "source": [
    "rf_params = config['models']['random_forest']\n",
    "rf_model = RandomForestChurnModel(**rf_params)\n",
    "rf_metrics = train_and_log_model(rf_model, 'RandomForest', X_train_transformed, X_test_transformed, y_train, y_test, rf_params)\n",
    "\n",
    "xgb_params = config['models']['xgboost']\n",
    "xgb_model = XGBoostChurnModel(**xgb_params)\n",
    "xgb_metrics = train_and_log_model(xgb_model, 'XGBoost', X_train_transformed, X_test_transformed, y_train, y_test, xgb_params)"
   ]
  },
  {
   "cell_type": "markdown",
   "metadata": {},
   "source": [
    "## 5. Compare Models"
   ]
  },
  {
   "cell_type": "code",
   "execution_count": null,
   "metadata": {},
   "outputs": [],
   "source": [
    "comparison_df = pd.DataFrame({'RandomForest': rf_metrics, 'XGBoost': xgb_metrics}).T\n",
    "print(comparison_df)\n",
    "print(f'Best Model: {comparison_df[\"roc_auc\"].idxmax()}')"
   ]
  }
 ],
 "metadata": {
  "kernelspec": {
   "display_name": "Python 3",
   "language": "python",
   "name": "python3"
  },
  "language_info": {
   "name": "python",
   "version": "3.9.0"
  }
 },
 "nbformat": 4,
 "nbformat_minor": 4
}
