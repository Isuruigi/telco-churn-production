{
 "cells": [
  {
   "cell_type": "markdown",
   "metadata": {},
   "source": [
    "# Telco Customer Churn: Model Deployment"
   ]
  },
  {
   "cell_type": "markdown",
   "metadata": {},
   "source": [
    "## 1. Setup"
   ]
  },
  {
   "cell_type": "code",
   "execution_count": null,
   "metadata": {},
   "outputs": [],
   "source": [
    "import pandas as pd\n",
    "import joblib\n",
    "import sys\n",
    "import os\n",
    "import yaml\n",
    "\n",
    "sys.path.append(os.path.abspath(os.path.join(os.getcwd(), '..')))\n",
    "\n",
    "from src.model_persistence import ModelPersistence\n",
    "from src.inference_engine import InferenceEngine\n",
    "from src.data_loader import TelcoDataLoader\n",
    "\n",
    "with open('../config/config.yaml', 'r') as f:\n",
    "    config = yaml.safe_load(f)\n",
    "\n",
    "print('Setup complete')"
   ]
  },
  {
   "cell_type": "markdown",
   "metadata": {},
   "source": [
    "## 2. Save Trained Model"
   ]
  },
  {
   "cell_type": "code",
   "execution_count": null,
   "metadata": {},
   "outputs": [],
   "source": [
    "# Load best model from previous training\n",
    "from src.ensemble_models import XGBoostChurnModel\n",
    "from src.preprocessor import DataPreprocessor\n",
    "from sklearn.model_selection import train_test_split\n",
    "\n",
    "loader = TelcoDataLoader()\n",
    "df = loader.load_raw_data()\n",
    "df['TotalCharges'] = pd.to_numeric(df['TotalCharges'], errors='coerce')\n",
    "df.dropna(subset=['TotalCharges'], inplace=True)\n",
    "\n",
    "X = df.drop(config['target'], axis=1)\n",
    "y = (df[config['target']] == 'Yes').astype(int)\n",
    "X_train, X_test, y_train, y_test = train_test_split(X, y, test_size=0.2, random_state=42, stratify=y)\n",
    "\n",
    "preprocessor = DataPreprocessor().create_preprocessing_pipeline()\n",
    "X_train_transformed = preprocessor.fit_transform(X_train)\n",
    "\n",
    "# Train model\n",
    "xgb_params = config['models']['xgboost']\n",
    "model = XGBoostChurnModel(**xgb_params)\n",
    "model.train(X_train_transformed, y_train)\n",
    "\n",
    "# Save model and preprocessor\n",
    "os.makedirs('../models', exist_ok=True)\n",
    "joblib.dump(model.model, '../models/churn_model.pkl')\n",
    "joblib.dump(preprocessor, '../models/preprocessor.pkl')\n",
    "\n",
    "print('Model and preprocessor saved to ../models/')"
   ]
  },
  {
   "cell_type": "markdown",
   "metadata": {},
   "source": [
    "## 3. Load Model for Inference"
   ]
  },
  {
   "cell_type": "code",
   "execution_count": null,
   "metadata": {},
   "outputs": [],
   "source": [
    "loaded_model = joblib.load('../models/churn_model.pkl')\n",
    "loaded_preprocessor = joblib.load('../models/preprocessor.pkl')\n",
    "print('Model loaded successfully')"
   ]
  },
  {
   "cell_type": "markdown",
   "metadata": {},
   "source": [
    "## 4. Make Predictions on New Data"
   ]
  },
  {
   "cell_type": "code",
   "execution_count": null,
   "metadata": {},
   "outputs": [],
   "source": [
    "# Sample new customer data\n",
    "new_customer = pd.DataFrame([{\n",
    "    'customerID': 'NEW001',\n",
    "    'gender': 'Male',\n",
    "    'SeniorCitizen': 0,\n",
    "    'Partner': 'Yes',\n",
    "    'Dependents': 'No',\n",
    "    'tenure': 12,\n",
    "    'PhoneService': 'Yes',\n",
    "    'MultipleLines': 'No',\n",
    "    'InternetService': 'Fiber optic',\n",
    "    'OnlineSecurity': 'No',\n",
    "    'OnlineBackup': 'No',\n",
    "    'DeviceProtection': 'No',\n",
    "    'TechSupport': 'No',\n",
    "    'StreamingTV': 'Yes',\n",
    "    'StreamingMovies': 'Yes',\n",
    "    'Contract': 'Month-to-month',\n",
    "    'PaperlessBilling': 'Yes',\n",
    "    'PaymentMethod': 'Electronic check',\n",
    "    'MonthlyCharges': 89.95,\n",
    "    'TotalCharges': 1079.40\n",
    "}])\n",
    "\n",
    "# Preprocess and predict\n",
    "new_customer_processed = loaded_preprocessor.transform(new_customer.drop('customerID', axis=1))\n",
    "churn_prediction = loaded_model.predict(new_customer_processed)\n",
    "churn_probability = loaded_model.predict_proba(new_customer_processed)[:, 1]\n",
    "\n",
    "print(f'Churn Prediction: {\"Yes\" if churn_prediction[0] == 1 else \"No\"}')\n",
    "print(f'Churn Probability: {churn_probability[0]:.2%}')"
   ]
  },
  {
   "cell_type": "markdown",
   "metadata": {},
   "source": [
    "## 5. Batch Predictions"
   ]
  },
  {
   "cell_type": "code",
   "execution_count": null,
   "metadata": {},
   "outputs": [],
   "source": [
    "# Make predictions on test set\n",
    "X_test_processed = loaded_preprocessor.transform(X_test)\n",
    "batch_predictions = loaded_model.predict(X_test_processed)\n",
    "batch_probabilities = loaded_model.predict_proba(X_test_processed)[:, 1]\n",
    "\n",
    "# Create predictions dataframe\n",
    "predictions_df = pd.DataFrame({\n",
    "    'prediction': batch_predictions,\n",
    "    'churn_probability': batch_probabilities\n",
    "}, index=X_test.index)\n",
    "\n",
    "# Save predictions\n",
    "os.makedirs('../data/predictions', exist_ok=True)\n",
    "predictions_df.to_csv('../data/predictions/churn_predictions.csv')\n",
    "print(f'Batch predictions saved: {predictions_df.shape[0]} records')"
   ]
  },
  {
   "cell_type": "markdown",
   "metadata": {},
   "source": [
    "## Summary\n",
    "\n",
    "Model deployment workflow:\n",
    "1. Trained and saved model with preprocessor\n",
    "2. Loaded model for inference\n",
    "3. Made single prediction on new customer\n",
    "4. Generated batch predictions\n",
    "5. Saved predictions to file"
   ]
  }
 ],
 "metadata": {
  "kernelspec": {
   "display_name": "Python 3",
   "language": "python",
   "name": "python3"
  },
  "language_info": {
   "name": "python",
   "version": "3.9.0"
  }
 },
 "nbformat": 4,
 "nbformat_minor": 4
}
