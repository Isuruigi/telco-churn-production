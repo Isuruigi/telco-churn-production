{
 "cells": [
  {
   "cell_type": "markdown",
   "metadata": {},
   "source": [
    "# Telco Customer Churn: Exploratory Data Analysis"
   ]
  },
  {
   "cell_type": "markdown",
   "metadata": {},
   "source": [
    "This notebook performs a comprehensive exploratory data analysis (EDA) on the Telco Customer Churn dataset. The goal is to understand the data, identify patterns, and extract insights that can inform feature engineering and model building."
   ]
  },
  {
   "cell_type": "markdown",
   "metadata": {},
   "source": [
    "## 1. Setup and Data Loading"
   ]
  },
  {
   "cell_type": "code",
   "execution_count": null,
   "metadata": {},
   "outputs": [],
   "source": [
    "import pandas as pd\n",
    "import numpy as np\n",
    "import matplotlib.pyplot as plt\n",
    "import seaborn as sns\n",
    "import sys\n",
    "import os\n",
    "import yaml\n",
    "\n",
    "# Add src directory to path to import custom modules\n",
    "sys.path.append(os.path.abspath(os.path.join(os.getcwd(), '..')))\n",
    "\n",
    "from src.data_loader import TelcoDataLoader\n",
    "\n",
    "# Load config\n",
    "with open('../config/config.yaml', 'r') as f:\n",
    "    config = yaml.safe_load(f)\n",
    "\n",
    "TARGET_COLUMN = config['target']\n",
    "NUMERICAL_FEATURES = config['features']['numerical']\n",
    "CATEGORICAL_FEATURES = config['features']['categorical']\n",
    "\n",
    "# Set plot style\n",
    "sns.set(style='whitegrid')\n",
    "\n",
    "# Load data\n",
    "loader = TelcoDataLoader()\n",
    "df = loader.load_raw_data()\n",
    "\n",
    "# Initial data preparation\n",
    "df['TotalCharges'] = pd.to_numeric(df['TotalCharges'], errors='coerce')\n",
    "df.dropna(subset=['TotalCharges'], inplace=True)"
   ]
  },
  {
   "cell_type": "markdown",
   "metadata": {},
   "source": [
    "## 2. Data Quality Assessment"
   ]
  },
  {
   "cell_type": "code",
   "execution_count": null,
   "metadata": {},
   "outputs": [],
   "source": "print('--- DataFrame Info ---')\ndf.info()\n\nprint('\\n--- Missing Values ---')\nprint(df.isnull().sum())\n\nprint('\\n--- Duplicate Rows ---')\nprint(f'Number of duplicate rows: {df.duplicated().sum()}')\n\nprint('\\n--- Summary Statistics ---')\nprint(df.describe())"
  },
  {
   "cell_type": "markdown",
   "metadata": {},
   "source": [
    "## 3. Univariate Analysis"
   ]
  },
  {
   "cell_type": "markdown",
   "metadata": {},
   "source": [
    "### Target Variable"
   ]
  },
  {
   "cell_type": "code",
   "execution_count": null,
   "metadata": {},
   "outputs": [],
   "source": [
    "plt.figure(figsize=(6, 4))\n",
    "sns.countplot(x=TARGET_COLUMN, data=df)\n",
    "plt.title('Distribution of Customer Churn')\n",
    "plt.show()\n",
    "print(df[TARGET_COLUMN].value_counts(normalize=True))"
   ]
  },
  {
   "cell_type": "markdown",
   "metadata": {},
   "source": [
    "### Numerical Features"
   ]
  },
  {
   "cell_type": "code",
   "execution_count": null,
   "metadata": {},
   "outputs": [],
   "source": [
    "for col in NUMERICAL_FEATURES:\n",
    "    plt.figure(figsize=(8, 5))\n",
    "    sns.histplot(df[col], kde=True)\n",
    "    plt.title(f'Distribution of {col}')\n",
    "    plt.show()"
   ]
  },
  {
   "cell_type": "markdown",
   "metadata": {},
   "source": [
    "### Categorical Features"
   ]
  },
  {
   "cell_type": "code",
   "execution_count": null,
   "metadata": {},
   "outputs": [],
   "source": [
    "for col in CATEGORICAL_FEATURES:\n",
    "    plt.figure(figsize=(10, 6))\n",
    "    sns.countplot(y=col, data=df, order=df[col].value_counts().index)\n",
    "    plt.title(f'Distribution of {col}')\n",
    "    plt.show()"
   ]
  },
  {
   "cell_type": "markdown",
   "metadata": {},
   "source": [
    "## 4. Bivariate Analysis"
   ]
  },
  {
   "cell_type": "markdown",
   "metadata": {},
   "source": [
    "### Numerical Features vs. Churn"
   ]
  },
  {
   "cell_type": "code",
   "execution_count": null,
   "metadata": {},
   "outputs": [],
   "source": [
    "for col in NUMERICAL_FEATURES:\n",
    "    plt.figure(figsize=(8, 5))\n",
    "    sns.boxplot(x=TARGET_COLUMN, y=col, data=df)\n",
    "    plt.title(f'{col} vs. Churn')\n",
    "    plt.show()"
   ]
  },
  {
   "cell_type": "markdown",
   "metadata": {},
   "source": [
    "### Categorical Features vs. Churn"
   ]
  },
  {
   "cell_type": "code",
   "execution_count": null,
   "metadata": {},
   "outputs": [],
   "source": [
    "for col in CATEGORICAL_FEATURES:\n",
    "    if col != TARGET_COLUMN:\n",
    "        pd.crosstab(df[col], df[TARGET_COLUMN]).plot(kind='bar', stacked=True, figsize=(10, 6))\n",
    "        plt.title(f'{col} vs. Churn')\n",
    "        plt.xticks(rotation=45)\n",
    "        plt.show()"
   ]
  },
  {
   "cell_type": "markdown",
   "metadata": {},
   "source": [
    "## 5. Multivariate Analysis"
   ]
  },
  {
   "cell_type": "code",
   "execution_count": null,
   "metadata": {},
   "outputs": [],
   "source": [
    "plt.figure(figsize=(10, 8))\n",
    "correlation_matrix = df[NUMERICAL_FEATURES].corr()\n",
    "sns.heatmap(correlation_matrix, annot=True, cmap='coolwarm', fmt='.2f')\n",
    "plt.title('Correlation Matrix of Numerical Features')\n",
    "plt.show()"
   ]
  },
  {
   "cell_type": "markdown",
   "metadata": {},
   "source": [
    "## 6. Customer Segmentation (Example)"
   ]
  },
  {
   "cell_type": "code",
   "execution_count": null,
   "metadata": {},
   "outputs": [],
   "source": [
    "from sklearn.cluster import KMeans\n",
    "from sklearn.preprocessing import StandardScaler\n",
    "\n",
    "cluster_features = ['tenure', 'MonthlyCharges']\n",
    "df_cluster = df[cluster_features].copy()\n",
    "\n",
    "scaler = StandardScaler()\n",
    "df_scaled = scaler.fit_transform(df_cluster)\n",
    "\n",
    "kmeans = KMeans(n_clusters=4, random_state=42, n_init=10)\n",
    "df['Segment'] = kmeans.fit_predict(df_scaled)\n",
    "\n",
    "plt.figure(figsize=(10, 6))\n",
    "sns.scatterplot(x='tenure', y='MonthlyCharges', hue='Segment', data=df, palette='viridis')\n",
    "plt.title('Customer Segments (Tenure vs. Monthly Charges)')\n",
    "plt.show()"
   ]
  },
  {
   "cell_type": "markdown",
   "metadata": {},
   "source": [
    "## 7. Business Insights"
   ]
  },
  {
   "cell_type": "code",
   "execution_count": null,
   "metadata": {},
   "outputs": [],
   "source": "df['Churn_numeric'] = (df[TARGET_COLUMN] == 'Yes').astype(int)\nsegment_analysis = df.groupby('Segment').agg({\n    'tenure': 'mean',\n    'MonthlyCharges': 'mean',\n    'Churn_numeric': 'mean'\n}).rename(columns={'Churn_numeric': 'ChurnRate'})\n\nprint('--- Segment Analysis ---')\nprint(segment_analysis)\n\nprint('\\n--- Insights ---')\nfor i, row in segment_analysis.iterrows():\n    print(f'- Segment {i}: Average tenure of {row.tenure:.1f} months, average monthly charge of ${row.MonthlyCharges:.2f}, and a churn rate of {row.ChurnRate:.2%}.')"
  }
 ],
 "metadata": {
  "kernelspec": {
   "display_name": "Python 3",
   "language": "python",
   "name": "python3"
  },
  "language_info": {
   "codemirror_mode": {
    "name": "ipython",
    "version": 3
   },
   "file_extension": ".py",
   "mimetype": "text/x-python",
   "name": "python",
   "nbconvert_exporter": "python",
   "pygments_lexer": "ipython3",
   "version": "3.9.12"
  }
 },
 "nbformat": 4,
 "nbformat_minor": 4
}